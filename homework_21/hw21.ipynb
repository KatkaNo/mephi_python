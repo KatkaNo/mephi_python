{
 "cells": [
  {
   "cell_type": "markdown",
   "id": "d87285a2",
   "metadata": {},
   "source": [
    "# Task 1"
   ]
  },
  {
   "cell_type": "code",
   "execution_count": null,
   "id": "5e00cc6f",
   "metadata": {},
   "outputs": [],
   "source": [
    "class Iterator:\n",
    "    def __iter__(self):\n",
    "        return self\n",
    "    def __init__(self, lim):\n",
    "        self.limit = lim\n",
    "        self.counter = 0\n",
    "    def __next__(self):\n",
    "        if self.counter < self.limit:\n",
    "            self.counter += 1\n",
    "            return self.counter**2\n",
    "        else:\n",
    "            raise StopIteration"
   ]
  },
  {
   "cell_type": "code",
   "execution_count": null,
   "id": "a3814fc0",
   "metadata": {},
   "outputs": [],
   "source": [
    "def generate_Iterator(n_max):\n",
    "    for el in range(1, n_max + 1):\n",
    "        yield el**2\n",
    "\n",
    "def generate_expression(n_max):\n",
    "    return [el**2 for el in range(1, n_max + 1)]\n",
    "        \n",
    "        \n",
    "N = int(input('N = '))\n",
    "\n",
    "iter1 = Iterator(N)\n",
    "print('Класс-итератор:')\n",
    "for i in iter1:\n",
    "    print(i, end=' ')\n",
    "\n",
    "print('\\nФункция-генератор:')\n",
    "for k in generate_Iterator(N):\n",
    "    print(k, end=' ')\n",
    "\n",
    "print('\\nГенераторное выражение:')\n",
    "for l in generate_expression(N):\n",
    "    print(l, end=' ')"
   ]
  },
  {
   "cell_type": "markdown",
   "id": "4d1528d5",
   "metadata": {},
   "source": [
    "# Task 2"
   ]
  },
  {
   "cell_type": "code",
   "execution_count": null,
   "id": "95e852a3",
   "metadata": {},
   "outputs": [],
   "source": [
    "def generator(lst1, lst2):\n",
    "    for x in lst1:\n",
    "        for y in lst2:\n",
    "            yield x, y\n",
    "\n",
    "            \n",
    "list_1 = [2, 5, 7, 10]\n",
    "list_2 = [3, 8, 4, 9]\n",
    "to_find = 56\n",
    "for x, y in generator(list_1, list_2):\n",
    "    result = x * y\n",
    "    print(x, y, result)\n",
    "    if x * y == 56: \n",
    "        print('Found!!!')\n",
    "        break"
   ]
  },
  {
   "cell_type": "markdown",
   "id": "aaeaff27",
   "metadata": {},
   "source": [
    "# Task 3"
   ]
  },
  {
   "cell_type": "code",
   "execution_count": null,
   "id": "3131cdd9",
   "metadata": {},
   "outputs": [],
   "source": [
    "import os\n",
    "\n",
    "def gen_files_path(el):\n",
    "    path = el[0]\n",
    "    for el2 in el[1:]:\n",
    "        if isinstance(el2, list):\n",
    "            for el3 in el2:\n",
    "                path_item = path + '/' + el3\n",
    "                if os.path.isfile(path_item):\n",
    "                    print(path_item)\n",
    "                    \n",
    "                    \n",
    "name_directory = input('Введите название каталога: ')\n",
    "print(os.walk(name_directory))\n",
    "\n",
    "for el in os.walk('../'+name_directory):\n",
    "    gen_files_path(el)\n",
    "    print()"
   ]
  },
  {
   "cell_type": "markdown",
   "id": "499bbcd4",
   "metadata": {},
   "source": [
    "# Task 4"
   ]
  },
  {
   "cell_type": "code",
   "execution_count": null,
   "id": "abdd3a4f",
   "metadata": {},
   "outputs": [],
   "source": [
    "def Q(n):\n",
    "    if n < 3:\n",
    "        return 1\n",
    "    return Q(n-Q(n-1)) + Q(n-Q(n-2))\n",
    "\n",
    "def sequence(lim):\n",
    "    for i in range(1, lim):\n",
    "        yield Q(i)\n",
    "        \n",
    "        \n",
    "for el in sequence(20):\n",
    "    print(el, end=' ')"
   ]
  },
  {
   "cell_type": "markdown",
   "id": "72de9f1a",
   "metadata": {},
   "source": [
    "# Task 5"
   ]
  },
  {
   "cell_type": "code",
   "execution_count": null,
   "id": "191aa027",
   "metadata": {},
   "outputs": [],
   "source": [
    "import os\n",
    "import pathlib\n",
    "\n",
    "def read_file(name_directory, path):\n",
    "    s = 0\n",
    "    for el in os.listdir(name_directory):\n",
    "        print(path + el)\n",
    "        if os.path.isfile(path + el) and el != '.DS_Store':\n",
    "            for line in open(path + el, \"r\"):\n",
    "                if line != '\\n' and not line.startswith('#'):\n",
    "                    s += 1\n",
    "            yield s\n",
    "            \n",
    "\n",
    "name_directory = input('Введите название каталога с питоновскими файлами: ')\n",
    "#path = str(pathlib.Path().resolve()).split('/')\n",
    "#path = path[len(path)-1] + '/' + name_directory + '/'\n",
    "path = name_directory + '/'\n",
    "for el in read_file(name_directory, path):\n",
    "    print(el)"
   ]
  },
  {
   "cell_type": "markdown",
   "id": "2ba92ffd",
   "metadata": {},
   "source": [
    "# Task 6"
   ]
  },
  {
   "cell_type": "code",
   "execution_count": null,
   "id": "065aad09",
   "metadata": {},
   "outputs": [],
   "source": []
  },
  {
   "cell_type": "code",
   "execution_count": null,
   "id": "85ea918d",
   "metadata": {},
   "outputs": [],
   "source": []
  }
 ],
 "metadata": {
  "kernelspec": {
   "display_name": "Python 3 (ipykernel)",
   "language": "python",
   "name": "python3"
  },
  "language_info": {
   "codemirror_mode": {
    "name": "ipython",
    "version": 3
   },
   "file_extension": ".py",
   "mimetype": "text/x-python",
   "name": "python",
   "nbconvert_exporter": "python",
   "pygments_lexer": "ipython3",
   "version": "3.10.2"
  }
 },
 "nbformat": 4,
 "nbformat_minor": 5
}
