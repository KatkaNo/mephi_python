{
 "cells": [
  {
   "cell_type": "markdown",
   "id": "077e3098",
   "metadata": {},
   "source": [
    "# Task 1"
   ]
  },
  {
   "cell_type": "code",
   "execution_count": 7,
   "id": "e99e6756",
   "metadata": {},
   "outputs": [
    {
     "name": "stdout",
     "output_type": "stream",
     "text": [
      "num = 2\n",
      "1\n",
      "2\n"
     ]
    }
   ],
   "source": [
    "def print_num(num):\n",
    "    print(num)\n",
    "    if (num < num_lim):\n",
    "        print_num(num+1)\n",
    "    \n",
    "num_lim = int(input('num = '))\n",
    "print_num(1)\n"
   ]
  },
  {
   "cell_type": "markdown",
   "id": "d56433d0",
   "metadata": {},
   "source": [
    "# Task 2"
   ]
  },
  {
   "cell_type": "code",
   "execution_count": null,
   "id": "560da6b8",
   "metadata": {},
   "outputs": [],
   "source": [
    "def zip_func(generator):\n",
    "    try:\n",
    "        yield next(generator)\n",
    "        yield from zip_func(generator)\n",
    "    except StopIteration:\n",
    "        return\n",
    "    \n",
    "    \n",
    "obj1 = input('1-й объект данных(строка): ')\n",
    "obj2 = input('2-й объект данных(лист, кортеж, словарь): ')[1:-1].split(',')\n",
    "\n",
    "generator = ((obj1[i],obj2[i]) for i in range(min(len(obj1),len(obj2))))\n",
    "\n",
    "print(list(zip_func(generator)))"
   ]
  },
  {
   "cell_type": "markdown",
   "id": "9f123f37",
   "metadata": {},
   "source": [
    "# Task 3"
   ]
  },
  {
   "cell_type": "code",
   "execution_count": 10,
   "id": "e4cb93ab",
   "metadata": {},
   "outputs": [
    {
     "name": "stdout",
     "output_type": "stream",
     "text": [
      "Введите позицию числа в ряде Фибоначчи: 7\n",
      "Число: 13\n"
     ]
    }
   ],
   "source": [
    "def print_func(el):\n",
    "    print(f'Число: {el}')\n",
    "    \n",
    "def fibonachi(last_, next_, pos):\n",
    "    if pos == 0: \n",
    "        print_func(next_)\n",
    "        return\n",
    "    next_,last_ = last_ + next_,next_\n",
    "    fibonachi(last_, next_, pos-1)\n",
    "    \n",
    "    \n",
    "num_pos = int(input('Введите позицию числа в ряде Фибоначчи: '))\n",
    "\n",
    "if num_pos == 0: print_func(0)\n",
    "elif num_pos ==1: print_func(1)\n",
    "else: fibonachi(0,1,num_pos-1)"
   ]
  },
  {
   "cell_type": "markdown",
   "id": "aba884e5",
   "metadata": {},
   "source": [
    "# Task 4"
   ]
  },
  {
   "cell_type": "code",
   "execution_count": 6,
   "id": "ed95aaa8",
   "metadata": {},
   "outputs": [
    {
     "name": "stdout",
     "output_type": "stream",
     "text": [
      "Ключ : p\n",
      "Максимальная глубина просмотра словаря (ключ): 3\n",
      "Значение: bye\n"
     ]
    }
   ],
   "source": [
    "\n",
    "def return_value(dict_, key, depth):\n",
    "    if key in dict_.keys():\n",
    "        if depth == 0 or depth == 'not':\n",
    "            print(\"Значение:\", dict_[key])\n",
    "            return\n",
    "    else: \n",
    "        for d_key in dict_.keys():\n",
    "            if isinstance(dict_[d_key], dict):\n",
    "                return_value(dict_[d_key], key, 'not') if depth == 'not' else return_value(dict_[d_key], key, depth - 1)\n",
    "\n",
    "site = {\n",
    "    'html': {\n",
    "        'head': {\n",
    "            'title': {\n",
    "                'h2' : 'smth',\n",
    "                'p' : 'bye'\n",
    "            }\n",
    "        },\n",
    "        'body': {\n",
    "            'h2': 'Здесь будет мой заголовок',\n",
    "            'div': 'Тут, наверное, какой-то блок',\n",
    "            'p': 'А вот здесь новый абзац'\n",
    "        }\n",
    "    }\n",
    "}\n",
    "key = input('Ключ : ')\n",
    "max_deep_lev = input('Максимальная глубина просмотра словаря (ключ): ')\n",
    "d = site\n",
    "max_deep_lev = 'not' if max_deep_lev == \"\" else int(max_deep_lev)\n",
    "return_value(site, key, max_deep_lev)"
   ]
  },
  {
   "cell_type": "markdown",
   "id": "ce96bd8d",
   "metadata": {},
   "source": [
    "# Task 5"
   ]
  },
  {
   "cell_type": "code",
   "execution_count": null,
   "id": "34a6c7b1",
   "metadata": {},
   "outputs": [],
   "source": [
    "def fact(n):\n",
    "    res = 1 if n <= 1 else n * fact(n - 1)\n",
    "    return res\n",
    "\n",
    "def calculating_math_func(data, d_base):\n",
    "    # global d_base - плохой стиль\n",
    "    if data in d_base:\n",
    "        return d_base[data]\n",
    "    else:\n",
    "        result = fact(data)\n",
    "        result /= data ** 3\n",
    "        result = result ** 10\n",
    "        d_base[data] = result\n",
    "        return result\n",
    "\n",
    "d_base = {}\n",
    "print(calculating_math_func(5, d_base))\n",
    "print(calculating_math_func(5, d_base))"
   ]
  },
  {
   "cell_type": "markdown",
   "id": "6cffa7f4",
   "metadata": {},
   "source": [
    "# Task 6"
   ]
  },
  {
   "cell_type": "code",
   "execution_count": null,
   "id": "2891e371",
   "metadata": {},
   "outputs": [],
   "source": [
    "def change_brend(dict_, d_orig, name):\n",
    "    for key in d_orig.keys():\n",
    "        if isinstance(d_orig[key], dict):\n",
    "            change_brend(dict_, d_orig[key], name)\n",
    "        else:\n",
    "            if key == 'h2':\n",
    "                dict_[key] = d_orig[key].replace('iPhone', name)\n",
    "            elif key == 'title':\n",
    "                dict_[key] = d_orig[key].replace('телефон', name)\n",
    "            else:\n",
    "                dict_[key] = d_orig[key]\n",
    "    return dict_\n",
    "    \n",
    "site = {\n",
    "    'html': {\n",
    "        'head': {\n",
    "            'title': 'Куплю/продам телефон недорого'\n",
    "        },\n",
    "        'body': {\n",
    "            'h2': 'У нас самая низкая цена на iPhone',\n",
    "            'div': 'Купить',\n",
    "            'p': 'Продать'\n",
    "        }\n",
    "    }\n",
    "}\n",
    "\n",
    "site_amount = int(input('Сколько сайтов: '))\n",
    "for i in range(1, site_amount+1):\n",
    "    print('\\n')\n",
    "    name_product = input('Введите название продукта для нового сайта: ')\n",
    "    print(f'Сайт для {name_product}:')\n",
    "    d = {}\n",
    "    print(change_brend(d, site, name_product))"
   ]
  },
  {
   "cell_type": "markdown",
   "id": "ec07a308",
   "metadata": {},
   "source": [
    "# Task 7"
   ]
  },
  {
   "cell_type": "code",
   "execution_count": null,
   "id": "248542b0",
   "metadata": {},
   "outputs": [],
   "source": [
    "def sum_own(data):\n",
    "    for el in data:\n",
    "        if isinstance(el, list):\n",
    "            sum_own(el)\n",
    "        else: l.append(el)\n",
    "    return l\n",
    "\n",
    "l = []\n",
    "lst = [1, 2, [1, [4, 5], 3], 3, 4, [0]]\n",
    "print('Ответ:', sum(sum_own(lst)))"
   ]
  },
  {
   "cell_type": "markdown",
   "id": "4707a1eb",
   "metadata": {},
   "source": [
    "# Task 8"
   ]
  },
  {
   "cell_type": "code",
   "execution_count": null,
   "id": "d198f49f",
   "metadata": {},
   "outputs": [],
   "source": [
    "def open(data):\n",
    "    for el in data:\n",
    "        if isinstance(el, list):\n",
    "            sum_own(el)\n",
    "        else: l.append(el)\n",
    "    return l\n",
    "\n",
    "l = []\n",
    "nice_list = [1, 2, [3, 4], [[5, 6, 7], [8, 9, 10]], [[11, 12, 13], [14, 15], [16, 17, 18]]]\n",
    "print(\"Ответ:\", open(nice_list))"
   ]
  },
  {
   "cell_type": "markdown",
   "id": "71f30cdd",
   "metadata": {},
   "source": [
    "# Task 9"
   ]
  },
  {
   "cell_type": "code",
   "execution_count": null,
   "id": "38fad8de",
   "metadata": {},
   "outputs": [],
   "source": [
    "def Move(n , source, destination, auxiliary):\n",
    "    if n==1:\n",
    "        print (\"Move disk 1 from source\", source, \"to destination\", destination)\n",
    "        return\n",
    "    TowerOfHanoi(n-1, source, auxiliary, destination)\n",
    "    print (\"Move disk\",n,\"from source\", source,\" to destination\", destination)\n",
    "    TowerOfHanoi(n-1, auxiliary, destination, source)\n",
    "\n",
    "    \n",
    "n = int(input('Введите количество дисков: '))\n",
    "Move(n,'A','B','C')"
   ]
  },
  {
   "cell_type": "markdown",
   "id": "0e85847d",
   "metadata": {},
   "source": [
    "# Task 10"
   ]
  },
  {
   "cell_type": "code",
   "execution_count": null,
   "id": "45281d80",
   "metadata": {},
   "outputs": [],
   "source": []
  }
 ],
 "metadata": {
  "kernelspec": {
   "display_name": "Python 3 (ipykernel)",
   "language": "python",
   "name": "python3"
  },
  "language_info": {
   "codemirror_mode": {
    "name": "ipython",
    "version": 3
   },
   "file_extension": ".py",
   "mimetype": "text/x-python",
   "name": "python",
   "nbconvert_exporter": "python",
   "pygments_lexer": "ipython3",
   "version": "3.10.2"
  }
 },
 "nbformat": 4,
 "nbformat_minor": 5
}
