{
 "cells": [
  {
   "cell_type": "markdown",
   "id": "387c4dbb",
   "metadata": {},
   "source": [
    "# Task 1"
   ]
  },
  {
   "cell_type": "code",
   "execution_count": 2,
   "id": "fa51310e",
   "metadata": {},
   "outputs": [],
   "source": [
    "with open('numbers.txt') as input:\n",
    "    contents = sum(map(int, input.read().split()))\n",
    "    with open('answer.txt', 'w') as output:\n",
    "        output.write(str(contents))"
   ]
  },
  {
   "cell_type": "markdown",
   "id": "c8e58903",
   "metadata": {},
   "source": [
    "# Task 2"
   ]
  },
  {
   "cell_type": "code",
   "execution_count": 3,
   "id": "d6e61671",
   "metadata": {},
   "outputs": [
    {
     "name": "stdout",
     "output_type": "stream",
     "text": [
      "Namespaces are one honking great idea -- let's do more of those!\n",
      "If the implementation is easy to explain, it may be a good idea.\n",
      "If the implementation is hard to explain, it's a bad idea.\n",
      "Although never is often better than *right* now.\n",
      "Now is better than never.\n",
      "Although that way may not be obvious at first unless you're Dutch.\n",
      "There should be one-- and preferably only one --obvious way to do it.\n",
      "In the face of ambiguity, refuse the temptation to guess.\n",
      "Unless explicitly silenced.\n",
      "Errors should never pass silently.\n",
      "Although practicality beats purity.\n",
      "Special cases aren't special enough to break the rules.\n",
      "Readability counts.\n",
      "Sparse is better than dense.\n",
      "Flat is better than nested.\n",
      "Complex is better than complicated.\n",
      "Simple is better than complex.\n",
      "Explicit is better than implicit.\n",
      "Beautiful is better than ugly.\n"
     ]
    }
   ],
   "source": [
    "with open('zen.txt') as zen:\n",
    "    contents = zen.read().split('\\n')\n",
    "    for el in list(reversed(contents)):\n",
    "        print(el)"
   ]
  },
  {
   "cell_type": "markdown",
   "id": "98a840fd",
   "metadata": {},
   "source": [
    "# Task 3"
   ]
  },
  {
   "cell_type": "code",
   "execution_count": 1,
   "id": "43364c97",
   "metadata": {},
   "outputs": [
    {
     "name": "stdout",
     "output_type": "stream",
     "text": [
      "23 137 19\n",
      "Наименьшее число раз встречается буква: k\n"
     ]
    }
   ],
   "source": [
    "with open('zen.txt') as zen:\n",
    "    readfile = zen.read()\n",
    "    words = len(readfile.split())\n",
    "    rows = len(readfile.split('\\n'))\n",
    "    letters = {}\n",
    "    for el in list(readfile):\n",
    "        if (el.isalpha()) and (el.lower() not in letters.keys()):\n",
    "            letters[el.lower()] = 1\n",
    "        elif el.lower() in letters.keys():\n",
    "            letters[el.lower()] += 1\n",
    "    print(len(letters), words, rows)\n",
    "    print('Наименьшее число раз встречается буква:', min(letters, key = letters.get))"
   ]
  },
  {
   "cell_type": "markdown",
   "id": "928ffbed",
   "metadata": {},
   "source": [
    "# Task 4"
   ]
  },
  {
   "cell_type": "code",
   "execution_count": 3,
   "id": "7bad1dfd",
   "metadata": {},
   "outputs": [
    {
     "name": "stdout",
     "output_type": "stream",
     "text": [
      "Размер каталога (в Кб): 5377.652999999999\n",
      "Количество подкаталогов: 1\n",
      "Количество файлов: 5\n"
     ]
    }
   ],
   "source": [
    "import os\n",
    "\n",
    "path = '.'\n",
    "count_el = [0, 0, 0]\n",
    "\n",
    "for el in os.listdir(path):\n",
    "    count_el[0] += os.stat(os.path.join(path, el)).st_size/1000\n",
    "    if os.path.isfile(os.path.join(path, el)): count_el[2] += 1\n",
    "    else: count_el[1] += 1\n",
    "\n",
    "print('Размер каталога (в Кб):', count_el[0])        \n",
    "print('Количество подкаталогов:', count_el[1])\n",
    "print('Количество файлов:', count_el[2])"
   ]
  },
  {
   "cell_type": "markdown",
   "id": "6c05eede",
   "metadata": {},
   "source": [
    "# Task 5"
   ]
  },
  {
   "cell_type": "code",
   "execution_count": 5,
   "id": "25861632",
   "metadata": {},
   "outputs": [
    {
     "name": "stdout",
     "output_type": "stream",
     "text": [
      "Введите строку: hi baby\n",
      "Куда хотите сохранить документ? Введите последовательность папок (через пробел): homework_17\n",
      "Введите имя файла: hi\n",
      "\n",
      "Текущая папка: homework_17\n",
      "Содержимое файла: hi baby\n",
      "Файл успешно сохранен!\n"
     ]
    }
   ],
   "source": [
    "def write_in_file(path, to_write):\n",
    "    if to_write:\n",
    "        with open(path, 'w') as f:\n",
    "            f.write(text)\n",
    "    with open(path, 'r') as f:\n",
    "        print('Содержимое файла:', f.read())\n",
    "\n",
    "        \n",
    "import os\n",
    "\n",
    "text = input('Введите строку: ')\n",
    "folders = input('Куда хотите сохранить документ? Введите последовательность папок (через пробел): ')\n",
    "file_name = input('Введите имя файла: ')\n",
    "\n",
    "for folder in folders.split():\n",
    "    if not os.path.exists(folder):\n",
    "        os.mkdir(folder)  \n",
    "    print('\\nТекущая папка:', folder)    \n",
    "    path = folder + '/' + file_name + '.txt'\n",
    "    if os.path.exists(path):\n",
    "        rewrite = input('Вы действительно хотите перезаписать файл? ')\n",
    "        answer = True if rewrite.lower() == 'да' else False\n",
    "        if answer: \n",
    "            write_in_file(path, answer)\n",
    "            print('Файл успешно перезаписан!')\n",
    "        else: write_in_file(path, answer)\n",
    "    else:\n",
    "        write_in_file(path, True)\n",
    "        print('Файл успешно сохранен!')"
   ]
  },
  {
   "cell_type": "markdown",
   "id": "14e505ee",
   "metadata": {},
   "source": [
    "# Task 6"
   ]
  },
  {
   "cell_type": "code",
   "execution_count": 6,
   "id": "f6e08e99",
   "metadata": {},
   "outputs": [
    {
     "name": "stdout",
     "output_type": "stream",
     "text": [
      "Содержимое файла text.txt:\n",
      "Hello\n",
      "Hello\n",
      "Hello\n",
      "Hello\n",
      "\n",
      "Содержимое файла cipher_text.txt:\n",
      "Ifmmp\n",
      "Jgnnq\n",
      "Khoor\n",
      "Lipps\n",
      "\n"
     ]
    }
   ],
   "source": [
    "with open('text.txt', 'r') as f_r, open('cipher_text.txt', 'w') as f_w:\n",
    "    contents = f_r.read()\n",
    "    print(f'Содержимое файла {f_r.name}:\\n', contents, sep=\"\") \n",
    "    shift = 1\n",
    "    alphabet = list('ABCDEFGHIJKLMNOPQRSTUVWXYZabcdefghijklmnopqrstuvwxyz')\n",
    "    for el in contents.split(): \n",
    "        s = \"\"\n",
    "        alphabet_changed = alphabet[shift:] + alphabet[:shift]\n",
    "        res = [alphabet_changed[alphabet.index(letter)] if letter != \" \" else \" \" for letter in el]\n",
    "        for i in res:\n",
    "            s += str(i)\n",
    "        shift += 1\n",
    "        f_w.write(s + '\\n')\n",
    "\n",
    "with open('cipher_text.txt', 'r') as f_w: \n",
    "    print(f'\\nСодержимое файла {f_w.name}:\\n', f_w.read(), sep=\"\")"
   ]
  },
  {
   "cell_type": "markdown",
   "id": "a2e8cc84",
   "metadata": {},
   "source": [
    "# Task 7"
   ]
  },
  {
   "cell_type": "code",
   "execution_count": 7,
   "id": "8295efb3",
   "metadata": {},
   "outputs": [
    {
     "name": "stdout",
     "output_type": "stream",
     "text": [
      "Содержимое файла first_tour.txt:\n",
      "80\n",
      "Ivanov Serg 80\n",
      "Segeev Petr 92\n",
      "Petrov Vasiliy 98\n",
      "Vasiliev Maxim 78\n",
      "Ivanov Serg 80\n",
      "Segeev Petr 92\n",
      "Petrov Vasiliy 98\n",
      "Vasiliev Maxim 78\n",
      "\n",
      "Содержимое файла second_tour.txt:\n",
      "2\n",
      "1) V. Petrov 98\n",
      "2) P. Segeev 92\n",
      "\n"
     ]
    }
   ],
   "source": [
    "with open('first_tour.txt', 'r') as f_r, open('second_tour.txt', 'w') as f_w:\n",
    "    contents = f_r.read()\n",
    "    print(f'Содержимое файла {f_r.name}:\\n', contents, sep=\"\")\n",
    "    \n",
    "    pass_score = int(contents.split('\\n')[0])\n",
    "    dict_res = {}\n",
    "    for participant in contents.split('\\n')[1:]:\n",
    "        print(participant)\n",
    "        if int(participant.split()[2]) > pass_score:\n",
    "            dict_res[participant.split()[1][0] + '. ' + participant.split()[0]] = int(participant.split()[2])\n",
    "    cnt = 0\n",
    "    f_w.write(str(len(dict_res))+'\\n')\n",
    "    for v, k in sorted(dict_res.items(), reverse = True, key = lambda x: x[1]):\n",
    "        cnt += 1\n",
    "        f_w.write(f'{cnt}) {v} {k}\\n')\n",
    "\n",
    "with open('second_tour.txt', 'r') as f_read:\n",
    "    print(f'\\nСодержимое файла {f_read.name}:\\n', f_read.read(), sep=\"\")"
   ]
  },
  {
   "cell_type": "markdown",
   "id": "b227e768",
   "metadata": {},
   "source": [
    "# Task 8"
   ]
  },
  {
   "cell_type": "code",
   "execution_count": 8,
   "id": "67b290f3",
   "metadata": {},
   "outputs": [
    {
     "name": "stdout",
     "output_type": "stream",
     "text": [
      "Содержимое файла freq_text.txt:\n",
      "Mama myla ramu.\n",
      "\n",
      "Содержимое файла analysis.txt:\n",
      "a 0.333\n",
      "m 0.333\n",
      "l 0.083\n",
      "r 0.083\n",
      "u 0.083\n",
      "y 0.083\n",
      "\n"
     ]
    }
   ],
   "source": [
    "with open('freq_text.txt', 'r') as f_r, open('analysis.txt', 'w') as f_w:\n",
    "    contents = f_r.read()\n",
    "    print(f'Содержимое файла {f_r.name}:\\n', contents, sep=\"\")\n",
    "    dict_res = {}\n",
    "    for sym in contents:\n",
    "        if sym.isalpha():\n",
    "            dict_res[sym.lower()] = dict_res[sym.lower()]+1 if sym.lower() in dict_res.keys() else 1\n",
    "            \n",
    "    count_sym = sum(dict_res.values())\n",
    "    max_count = max(dict_res.values())\n",
    "    \n",
    "    for cnt in range(max_count, 0, -1):\n",
    "        lst = [v for v,k in dict_res.items() if k == cnt]\n",
    "        for value in sorted(lst):\n",
    "            f_w.write(value + ' ' + str(round(cnt/count_sym,3)) + '\\n')\n",
    "            \n",
    "with open('analysis.txt', 'r') as f_read:\n",
    "    print(f'\\nСодержимое файла {f_read.name}:\\n', f_read.read(), sep=\"\")"
   ]
  },
  {
   "cell_type": "markdown",
   "id": "7dacf0f0",
   "metadata": {},
   "source": [
    "# Task 9"
   ]
  },
  {
   "cell_type": "code",
   "execution_count": 11,
   "id": "37ecefd3",
   "metadata": {},
   "outputs": [
    {
     "name": "stdout",
     "output_type": "stream",
     "text": [
      "о 0.110402\n",
      "\n",
      "е 0.079426\n",
      "\n",
      "а 0.07804\n",
      "\n",
      "и 0.064922\n",
      "\n",
      "н 0.060449\n",
      "\n",
      "т 0.056048\n",
      "\n",
      "с 0.051082\n",
      "\n",
      "л 0.048344\n",
      "\n",
      "в 0.043177\n",
      "\n",
      "р 0.042117\n",
      "\n",
      "к 0.031386\n",
      "\n",
      "д 0.028542\n",
      "\n",
      "м 0.027475\n",
      "\n",
      "у 0.026147\n",
      "\n",
      "п 0.023336\n",
      "\n",
      "я 0.02087\n",
      "\n",
      "ь 0.018861\n",
      "\n",
      "ы 0.018753\n",
      "\n",
      "г 0.01863\n",
      "\n",
      "з 0.016409\n",
      "\n",
      "б 0.015834\n",
      "\n",
      "ч 0.013642\n",
      "\n",
      "й 0.010911\n",
      "\n",
      "ж 0.010221\n",
      "\n",
      "ш 0.008893\n",
      "\n",
      "х 0.008233\n",
      "\n",
      "ю 0.005938\n",
      "\n",
      "e 0.005137\n",
      "\n",
      "ц 0.003467\n",
      "\n",
      "щ 0.002863\n",
      "\n",
      "э 0.002617\n",
      "\n",
      "Н 0.002472\n",
      "\n",
      "s 0.002249\n",
      "\n",
      "a 0.002162\n",
      "\n",
      "П 0.002158\n",
      "\n",
      "n 0.002055\n",
      "\n",
      "i 0.001984\n",
      "\n",
      "r 0.001953\n",
      "\n",
      "ф 0.001842\n",
      "\n",
      "u 0.001826\n",
      "\n",
      "o 0.001817\n",
      "\n",
      "t 0.001721\n",
      "\n",
      "В 0.00163\n",
      "\n",
      "О 0.001523\n",
      "\n",
      "А 0.001465\n",
      "\n",
      "l 0.001457\n",
      "\n",
      "К 0.001366\n",
      "\n",
      "М 0.001231\n",
      "\n",
      "Д 0.001149\n",
      "\n",
      "m 0.001081\n",
      "\n",
      "Б 0.001005\n",
      "\n",
      "d 0.00094\n",
      "\n",
      "c 0.000923\n",
      "\n",
      "С 0.000905\n",
      "\n",
      "И 0.000807\n",
      "\n",
      "Р 0.000773\n",
      "\n",
      "p 0.000711\n",
      "\n",
      "Т 0.000711\n",
      "\n",
      "v 0.00054\n",
      "\n",
      "Я 0.000445\n",
      "\n",
      "Г 0.000435\n",
      "\n",
      "ъ 0.000415\n",
      "\n",
      "ё 0.000414\n",
      "\n",
      "h 0.000374\n",
      "\n",
      "Ч 0.000358\n",
      "\n",
      "Э 0.000353\n",
      "\n",
      "Е 0.00035\n",
      "\n",
      "f 0.000296\n",
      "\n",
      "q 0.000293\n",
      "\n",
      "I 0.000281\n",
      "\n",
      "g 0.000255\n",
      "\n",
      "b 0.000248\n",
      "\n",
      "Л 0.000225\n",
      "\n",
      "У 0.000206\n",
      "\n",
      "З 0.000186\n",
      "\n",
      "j 0.000159\n",
      "\n",
      "z 0.000153\n",
      "\n",
      "V 0.000152\n",
      "\n",
      "X 0.000143\n",
      "\n",
      "Ф 0.000142\n",
      "\n",
      "M 0.000129\n",
      "\n",
      "Ж 9.9e-05\n",
      "\n",
      "Х 9.9e-05\n",
      "\n",
      "B 9e-05\n",
      "\n",
      "A 8.9e-05\n",
      "\n",
      "x 8.7e-05\n",
      "\n",
      "Ш 8.7e-05\n",
      "\n",
      "L 7.7e-05\n",
      "\n",
      "C 6.5e-05\n",
      "\n",
      "y 6.2e-05\n",
      "\n",
      "E 6.2e-05\n",
      "\n",
      "N 6e-05\n",
      "\n",
      "J 5.9e-05\n",
      "\n",
      "S 5.2e-05\n",
      "\n",
      "P 5.1e-05\n",
      "\n",
      "D 4.5e-05\n",
      "\n",
      "k 3e-05\n",
      "\n",
      "R 2.9e-05\n",
      "\n",
      "O 2.7e-05\n",
      "\n",
      "Q 2.4e-05\n",
      "\n",
      "Ц 2.4e-05\n",
      "\n",
      "F 2.2e-05\n",
      "\n",
      "w 2e-05\n",
      "\n",
      "T 1.9e-05\n",
      "\n",
      "G 1.4e-05\n",
      "\n",
      "U 1.3e-05\n",
      "\n",
      "K 1.3e-05\n",
      "\n",
      "H 1.1e-05\n",
      "\n",
      "Ь 9e-06\n",
      "\n",
      "Щ 7e-06\n",
      "\n",
      "Ю 7e-06\n",
      "\n",
      "W 7e-06\n",
      "\n",
      "Z 3e-06\n",
      "\n",
      "Й 1e-06\n",
      "\n"
     ]
    }
   ],
   "source": [
    "def count_sym(contents):\n",
    "    for sym in contents:\n",
    "        if sym.isalpha():\n",
    "            dict_res[sym] = dict_res[sym]+1 if sym in dict_res.keys() else 1\n",
    "            \n",
    "def sort_dict(dict_count):#f_w):\n",
    "    count_sym = sum(dict_res.values())\n",
    "    max_count = max(dict_res.values())\n",
    "    for cnt in range(max_count, 0, -1):\n",
    "        lst = [v for v,k in dict_res.items() if k == cnt]\n",
    "        for value in sorted(lst):\n",
    "            print(value + ' ' + str(round(cnt/count_sym,6)) + '\\n')\n",
    "            #f_w.write(value + ' ' + str(round(cnt/count_sym,3)) + '\\n')\n",
    "            \n",
    "            \n",
    "import zipfile\n",
    "import io\n",
    "\n",
    "with zipfile.ZipFile('voyna-i-mir.zip', 'r') as myzip:\n",
    "    with myzip.open('voyna-i-mir.txt', 'r') as f:\n",
    "        dict_res = {}\n",
    "        for line in io.TextIOWrapper(f, encoding=\"utf-8\"):\n",
    "            count_sym(line)\n",
    "        sort_dict(dict_res)\n",
    "        "
   ]
  },
  {
   "cell_type": "code",
   "execution_count": null,
   "id": "5e39d62c",
   "metadata": {},
   "outputs": [],
   "source": []
  }
 ],
 "metadata": {
  "kernelspec": {
   "display_name": "Python 3 (ipykernel)",
   "language": "python",
   "name": "python3"
  },
  "language_info": {
   "codemirror_mode": {
    "name": "ipython",
    "version": 3
   },
   "file_extension": ".py",
   "mimetype": "text/x-python",
   "name": "python",
   "nbconvert_exporter": "python",
   "pygments_lexer": "ipython3",
   "version": "3.10.2"
  }
 },
 "nbformat": 4,
 "nbformat_minor": 5
}
