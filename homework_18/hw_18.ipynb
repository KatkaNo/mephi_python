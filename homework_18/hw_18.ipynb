{
 "cells": [
  {
   "cell_type": "markdown",
   "id": "9536df94",
   "metadata": {},
   "source": [
    "# Task 1"
   ]
  },
  {
   "cell_type": "code",
   "execution_count": 1,
   "id": "5e9f8d03",
   "metadata": {},
   "outputs": [
    {
     "name": "stdout",
     "output_type": "stream",
     "text": [
      "Общее количество символов: 39\n"
     ]
    }
   ],
   "source": [
    "with open('people.txt', 'r') as f, open('errors.log', 'w') as f_err:\n",
    "    length, cnt = 0, 1\n",
    "    for line in f.readlines():\n",
    "        if len(line) <= 4:\n",
    "            f_err.write(f'Error in {cnt} line\\n')\n",
    "        else:\n",
    "            length += len(line)\n",
    "        cnt += 1\n",
    "    print('Общее количество символов:', length)"
   ]
  },
  {
   "cell_type": "markdown",
   "id": "cf7e5455",
   "metadata": {},
   "source": [
    "# Task 2"
   ]
  },
  {
   "cell_type": "code",
   "execution_count": 2,
   "id": "c85bbc13",
   "metadata": {},
   "outputs": [
    {
     "name": "stdout",
     "output_type": "stream",
     "text": [
      "['345.23', '67.35']\n",
      "Что-то пошло не так с первой функцией\n",
      "Что-то пошло не так со второй функцией\n",
      "Что-то пошло не так\n",
      "['45', '75.2']\n",
      "Что-то пошло не так с первой функцией\n",
      "Что-то пошло не так со второй функцией\n",
      "Что-то пошло не так\n",
      "['56', '86']\n",
      "['3', '7']\n",
      "['-10', '345']\n",
      "['650', '-35.2']\n",
      "Что-то пошло не так с первой функцией\n",
      "Что-то пошло не так со второй функцией\n"
     ]
    }
   ],
   "source": [
    "import random\n",
    "\n",
    "def f(x, y):\n",
    "    x += random.randint(0, 10)\n",
    "    y += random.randint(0, 5)\n",
    "    return x/y\n",
    "\n",
    "def f2(x, y):\n",
    "    x -= random.randint(0, 10)\n",
    "    y -= random.randint(0, 5)\n",
    "    return y/x\n",
    "\n",
    "file = open('coordinates.txt', 'r')\n",
    "file_2 = open('result.txt', 'w')\n",
    "\n",
    "for line in file:\n",
    "    nums_list = line.split()\n",
    "    print(nums_list)\n",
    "    try:\n",
    "        res1 = f(int(nums_list[0]), int(nums_list[1]))\n",
    "    except Exception:\n",
    "        print(\"Что-то пошло не так с первой функцией\")\n",
    "        \n",
    "    try:\n",
    "        res2 = f2(int(nums_list[0]), int(nums_list[1]))\n",
    "    except Exception:\n",
    "        print(\"Что-то пошло не так со второй функцией\")\n",
    "    try:\n",
    "        number = random.randint(0, 100)\n",
    "        my_list = sorted([res1, res2, number])\n",
    "        file_2.write(str(my_list)+'\\n')\n",
    "    except:\n",
    "        print(\"Что-то пошло не так\")\n",
    "    \n",
    "file.close()            \n",
    "file_2.close()"
   ]
  },
  {
   "cell_type": "markdown",
   "id": "a2dec262",
   "metadata": {},
   "source": [
    "# Task 3"
   ]
  },
  {
   "cell_type": "code",
   "execution_count": 3,
   "id": "d35c2347",
   "metadata": {},
   "outputs": [
    {
     "name": "stdout",
     "output_type": "stream",
     "text": [
      "Введите число: 56\n",
      "Введите число: 346\n",
      "Введите число: 467\n",
      "Сумма введенных чисел: 869.0\n"
     ]
    }
   ],
   "source": [
    "import random\n",
    "\n",
    "with open('happy-num.txt', 'w') as f:\n",
    "    value = 0\n",
    "    while value <= 777:\n",
    "        number = float(input('Введите число: '))\n",
    "        value += number\n",
    "        if random.randint(0,12) == 0:\n",
    "            raise Exception('You are unlucky')\n",
    "        f.write(str(value)+'\\n')\n",
    "    print('Сумма введенных чисел:', value)"
   ]
  },
  {
   "cell_type": "markdown",
   "id": "aaf51564",
   "metadata": {},
   "source": [
    "# Task 4"
   ]
  },
  {
   "cell_type": "code",
   "execution_count": 4,
   "id": "fbfd26c6",
   "metadata": {},
   "outputs": [],
   "source": [
    "def raise_error(line):\n",
    "    mistakes, mistFound = str(line)[:-1], False\n",
    "    if len(line.split()) != 3: \n",
    "        mistakes += ' ValueError\\n'\n",
    "        sumup_bad.append(mistakes)\n",
    "        return\n",
    "    if [sym for sym in line.split()[0] if sym.isdigit()]:\n",
    "        mistakes += ' NameError' \n",
    "        mistFound = True\n",
    "    if not [sym for sym in line.split()[1] if sym == '.' ] or not [sym for sym in line.split()[1] if sym == '@']:\n",
    "        mistakes += ' SyntaxError'\n",
    "        mistFound = True\n",
    "    if int(line.split()[2]) < 10 or int(line.split()[2]) > 99:\n",
    "        mistakes += ' ValueError' \n",
    "        mistFound = True\n",
    "    if mistFound == True: sumup_bad.append(mistakes)\n",
    "    else: sumup_good.append(mistakes + '\\n')\n",
    "\n",
    "sumup_bad, sumup_good = [], []\n",
    "with open('registrations.txt') as f, open('registrations_bad.log', 'w') as f_bad, open('registrations_good.log', 'w') as f_good:\n",
    "    for line in f.readlines(): raise_error(line)\n",
    "    for el in sumup_good: f_good.write(el)\n",
    "    for el in sumup_bad: f_bad.write(el)"
   ]
  },
  {
   "cell_type": "markdown",
   "id": "9047c227",
   "metadata": {},
   "source": [
    "# Task 5"
   ]
  },
  {
   "cell_type": "code",
   "execution_count": 5,
   "id": "a9ab0846",
   "metadata": {},
   "outputs": [
    {
     "name": "stdout",
     "output_type": "stream",
     "text": [
      "In line 23 / 0 division by zero\n",
      "In line 45 * a operands are not integer\n",
      "In line 3 t 2 incorrect literals\n",
      "Сумма проведенных операций: 140\n"
     ]
    }
   ],
   "source": [
    "def check(operation):\n",
    "    if len(operation) != 3: raise SyntaxError\n",
    "    if not operation[0].isdigit() or not operation[2].isdigit(): raise ValueError\n",
    "    if operation[1] not in '/%+-*': raise TypeError\n",
    "    sign = operation[1]\n",
    "    for key in calc.keys():\n",
    "        if operation[1] in key:\n",
    "            try:\n",
    "                return calc.get(key)(int(operation[0]), int(operation[2]))\n",
    "            except: \n",
    "                raise ZeroDivisionError\n",
    "\n",
    "calc = {\n",
    "    \"+\": lambda x, y: x + y,\n",
    "    \"-\": lambda x, y: x - y,\n",
    "    \"*\": lambda x, y: x * y,\n",
    "    \"%\": lambda x, y: x % y,\n",
    "    \"/\": lambda x, y: x / y\n",
    "}\n",
    "\n",
    "with open('calc.txt') as f:\n",
    "    s = 0\n",
    "    for line in f.readlines():\n",
    "        try:\n",
    "            s += check(line.split())\n",
    "        except ValueError:\n",
    "            print('In line ', line[:-1], ' operands are not integer', sep=\"\")\n",
    "        except SyntaxError:\n",
    "            print('In line ', line[:-1], ' incorrect expression', sep=\"\")\n",
    "        except TypeError:\n",
    "            print('In line ', line[:-1], ' incorrect literals', sep=\"\")\n",
    "        except ZeroDivisionError:\n",
    "            print('In line ', line[:-1], ' division by zero', sep=\"\")\n",
    "    print('Сумма проведенных операций:', s)"
   ]
  },
  {
   "cell_type": "markdown",
   "id": "19516ae6",
   "metadata": {},
   "source": [
    "# Task 6"
   ]
  },
  {
   "cell_type": "code",
   "execution_count": 6,
   "id": "db7fffa0",
   "metadata": {},
   "outputs": [
    {
     "name": "stdout",
     "output_type": "stream",
     "text": [
      "Введите имя: skf\n",
      "\n",
      "Выйти из чата - 0\n",
      "Посмотреть текущий текст чата - 1\n",
      "Отправить сообщение - 2\n",
      "2\n",
      "Введите сообщение: xdfgsdh wef\n",
      "\n",
      "Выйти из чата - 0\n",
      "Посмотреть текущий текст чата - 1\n",
      "Отправить сообщение - 2\n",
      "2\n",
      "Введите сообщение: lsdgaigdnj\n",
      "\n",
      "Выйти из чата - 0\n",
      "Посмотреть текущий текст чата - 1\n",
      "Отправить сообщение - 2\n",
      "0\n"
     ]
    }
   ],
   "source": [
    "name = input('Введите имя: ')\n",
    "\n",
    "while True:\n",
    "    print('\\nВыйти из чата - 0')\n",
    "    print('Посмотреть текущий текст чата - 1')\n",
    "    print('Отправить сообщение - 2')\n",
    "    answer = int(input())\n",
    "    if answer == 0: break\n",
    "    if answer == 1:\n",
    "        try:\n",
    "            with open('chat.txt') as f:\n",
    "                contents = f.readlines()\n",
    "                if contents:\n",
    "                    print(f'\\nСодержимое файла {f.name}:\\n')\n",
    "                    for el in contents: print(el)\n",
    "                else: print('Чат пуст')\n",
    "        except FileNotFoundError:\n",
    "            print('Что-то пошло не так')\n",
    "    elif answer == 2:\n",
    "        message = input('Введите сообщение: ')\n",
    "        with open('chat.txt', 'a') as f_new_mess:\n",
    "            f_new_mess.write(name + ': ' + message + '\\n')\n",
    "    else:\n",
    "        raise SyntaxError('Некорректный ввод')"
   ]
  },
  {
   "cell_type": "markdown",
   "id": "bd7d46f9",
   "metadata": {},
   "source": [
    "# Task 7"
   ]
  },
  {
   "cell_type": "code",
   "execution_count": 8,
   "id": "c9944640",
   "metadata": {},
   "outputs": [
    {
     "name": "stdout",
     "output_type": "stream",
     "text": [
      "\n",
      "Содержимое файла calculator.txt:\n",
      "\n",
      "Сумма проведенных операций: 0\n"
     ]
    }
   ],
   "source": [
    "def process(line):\n",
    "    try:\n",
    "        s.append(check(line.split()))\n",
    "    except Exception:\n",
    "        print('Обнаружена ошибка в строке ', line[:-1], '. ', end =\"\", sep=\"\")\n",
    "        answer = input('Хотите исправить? ')\n",
    "        if answer == 'да': \n",
    "            new_line = input('Введите исправленную строку: ')\n",
    "            process(new_line + '\\n')\n",
    "                \n",
    "def check(operation):\n",
    "    if len(operation) != 3 or operation[1] not in '/%+-*' or not operation[0].isdigit() or not operation[2].isdigit(): raise Exception\n",
    "    sign = operation[1]\n",
    "    for key in calc.keys():\n",
    "        if operation[1] in key:\n",
    "            try:\n",
    "                return calc.get(key)(int(operation[0]), int(operation[2]))\n",
    "            except: \n",
    "                raise Exception\n",
    "\n",
    "calc = {\n",
    "    \"+\": lambda x, y: x + y,\n",
    "    \"-\": lambda x, y: x - y,\n",
    "    \"*\": lambda x, y: x * y,\n",
    "    \"%\": lambda x, y: x % y,\n",
    "    \"/\": lambda x, y: x / y\n",
    "}\n",
    "\n",
    "with open('calculator.txt') as f_calc:\n",
    "    s = []\n",
    "    contents = f_calc.readlines()\n",
    "    print(f'\\nСодержимое файла {f_calc.name}:\\n')\n",
    "    for el in contents: print(el)\n",
    "    for line in contents:\n",
    "        process(line)\n",
    "        \n",
    "    print('Сумма проведенных операций:', sum(s))"
   ]
  },
  {
   "cell_type": "code",
   "execution_count": null,
   "id": "cfa7583f",
   "metadata": {},
   "outputs": [],
   "source": []
  }
 ],
 "metadata": {
  "kernelspec": {
   "display_name": "Python 3 (ipykernel)",
   "language": "python",
   "name": "python3"
  },
  "language_info": {
   "codemirror_mode": {
    "name": "ipython",
    "version": 3
   },
   "file_extension": ".py",
   "mimetype": "text/x-python",
   "name": "python",
   "nbconvert_exporter": "python",
   "pygments_lexer": "ipython3",
   "version": "3.10.2"
  }
 },
 "nbformat": 4,
 "nbformat_minor": 5
}
